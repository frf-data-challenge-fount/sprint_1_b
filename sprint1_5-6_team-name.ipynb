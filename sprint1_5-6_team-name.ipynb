{
 "cells": [
  {
   "cell_type": "markdown",
   "id": "4bf85161-3c2b-4059-8179-ebfe1308ff02",
   "metadata": {},
   "source": [
    "<div style=\"display: flex; justify-content: space-between; align-items: center; margin-bottom: 40px; margin-top: 0;\">\n",
    "    <div style=\"flex: 0 0 auto; margin-left: 0; margin-bottom: 0; margin-top: 0;\">\n",
    "        <img src=\"./pics/UCSD Logo.png\" alt=\"UCSD Logo\" style=\"width: 179px; margin-bottom: 0px; margin-top: 20px;\">\n",
    "    </div>\n",
    "    <div style=\"flex: 0 0 auto; margin-left: auto; margin-bottom: 0; margin-top: 20px;\">\n",
    "        <img src=\"./pics/LANL-logo.png\" alt=\"LANL Logo\" style=\"width: 200px; margin-bottom: 0px;\">\n",
    "    </div>\n",
    "    <div style=\"flex: 0 0 auto; margin-left: auto; margin-bottom: 0; margin-top: 20px;\">\n",
    "        <img src=\"./pics/prowess.png\" alt=\"Prowess Logo\" style=\"width: 200px; margin-bottom: 0px;\">\n",
    "    </div>\n",
    "    <div style=\"flex: 0 0 auto; margin-left: auto; margin-bottom: 0; margin-top: 20px;\">\n",
    "        <img src=\"./pics/wildfire.png\" alt=\"WildFire Logo\" width=\"100\"/>\n",
    "    </div>\n",
    "</div>\n",
    "\n",
    "<h1 style=\"text-align: center; font-size: 48px; margin-top: 0;\">Fire-Ready Forests Data Challenge</h1>"
   ]
  },
  {
   "cell_type": "markdown",
   "id": "43cddd68-dbf7-40c0-a499-cb6d4d9fcdac",
   "metadata": {},
   "source": [
    "# Sprint 1 - Tasks 5-6\n",
    "\n",
    "Use this notebook to report your solutions for tasks 5-6 of Sprint 1. Add code and markdown cells as needed to report your solutions.\n",
    "\n",
    "### Task 5\n",
    "\n",
    "Following the lidar point cloud module as a guide, select the ALS scan from Independence Lake and one TLS scan from Independence Lake. Describe the differences in the two datasets (e.g. extent, number of points, resolutions) and include at least 2 figures in the response."
   ]
  },
  {
   "cell_type": "code",
   "execution_count": null,
   "id": "d5ef2f3a-8320-4197-81fb-8c3722bc026d",
   "metadata": {},
   "outputs": [],
   "source": [
    "# Task 5 - Your code here"
   ]
  },
  {
   "cell_type": "markdown",
   "id": "e6765cbe-2f3a-4f77-a0f1-1fd9cf228434",
   "metadata": {},
   "source": [
    "### Task 6\n",
    "So far, we have mainly been exploring how tabular data can be used to create models to predict DBH. However, we also have lidar data which can be used. Given what you have learned in the lidar point cloud module and other resources, describe some metrics that you could derive from the point cloud data as an extra input to your model.\n",
    "\n",
    "**Your Response:**"
   ]
  }
 ],
 "metadata": {
  "kernelspec": {
   "display_name": "Python 3 (ipykernel)",
   "language": "python",
   "name": "python3"
  },
  "language_info": {
   "codemirror_mode": {
    "name": "ipython",
    "version": 3
   },
   "file_extension": ".py",
   "mimetype": "text/x-python",
   "name": "python",
   "nbconvert_exporter": "python",
   "pygments_lexer": "ipython3",
   "version": "3.11.7"
  }
 },
 "nbformat": 4,
 "nbformat_minor": 5
}
